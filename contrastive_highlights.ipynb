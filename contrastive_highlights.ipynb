{
 "cells": [
  {
   "cell_type": "code",
   "execution_count": 1,
   "metadata": {},
   "outputs": [],
   "source": [
    "import json\n",
    "import random\n",
    "from transformers import AutoTokenizer\n",
    "import numpy as np\n",
    "from allennlp.common.util import import_module_and_submodules as import_submodules\n",
    "from allennlp.models.archival import load_archive\n",
    "from allennlp.predictors import Predictor\n",
    "\n",
    "dataset=\"agnews\"\n",
    "news_labels = {'1': 'World/Politics', '2': 'Sports', '3': 'Business', '4': 'Science/Technology'}\n",
    "\n",
    "model_name=\"roberta-large\"\n",
    "model_path=f\"experiments/models/{dataset}/{model_name}\""
   ]
  },
  {
   "cell_type": "code",
   "execution_count": 3,
   "metadata": {},
   "outputs": [],
   "source": [
    "archive = load_archive(model_path + '/model.tar.gz')\n",
    "model = archive.model\n",
    "\n",
    "predictor = Predictor.from_archive(archive, 'text_classifier')\n",
    "\n",
    "tok = AutoTokenizer.from_pretrained(\"roberta-large\")"
   ]
  },
  {
   "cell_type": "code",
   "execution_count": 4,
   "metadata": {},
   "outputs": [
    {
     "name": "stdout",
     "output_type": "stream",
     "text": [
      "Text: Siemens Says Cellphone Flaw May Hurt Users and Its Profit: Siemens, the world's fourth-largest maker of mobile phones, said Friday that a software flaw that can create a piercing ring in its newest phone models might hurt earnings in its handset division.\n",
      "Prediction: Science/Technology\n",
      "Label: Business\n"
     ]
    }
   ],
   "source": [
    "text = \"Siemens Says Cellphone Flaw May Hurt Users and Its Profit: Siemens, the world's \" \\\n",
    "       \"fourth-largest maker of mobile phones, said Friday that a software flaw that can \" \\\n",
    "       \"create a piercing ring in its newest phone models might hurt earnings in its \" \\\n",
    "       \"handset division.\"\n",
    "label = '3'\n",
    "out = predictor.predict(text)\n",
    "prediction = out['label']\n",
    "\n",
    "print('Text:', text)\n",
    "print('Prediction:', news_labels[prediction])\n",
    "print('Label:', news_labels[label])"
   ]
  },
  {
   "cell_type": "code",
   "execution_count": 5,
   "metadata": {
    "scrolled": true
   },
   "outputs": [],
   "source": [
    "# In the automatic procedure, we attempt to find the longest highlight that produces the foil. Let's do that.\n",
    "\n",
    "import nltk\n",
    "from nltk.tokenize.treebank import TreebankWordDetokenizer\n",
    "\n",
    "tokenized_text = nltk.word_tokenize(text)\n",
    "tok = TreebankWordDetokenizer()\n",
    "        \n",
    "contrast_highlight = None\n",
    "for j in range(len(tokenized_text)-1, 0, -1):\n",
    "    for i in range(len(tokenized_text)):\n",
    "        \n",
    "        masked_text = [token if i <= k <= i + j else '<mask>' for k, token in enumerate(tokenized_text)]\n",
    "        masked_text = tok.detokenize(masked_text)\n",
    "        \n",
    "        out = predictor.predict(masked_text)\n",
    "        if out['label'] == label:\n",
    "            contrast_highlight = [i, i + j]\n",
    "            break\n",
    "    if contrast_highlight is not None:\n",
    "        break"
   ]
  },
  {
   "cell_type": "code",
   "execution_count": 6,
   "metadata": {},
   "outputs": [
    {
     "name": "stdout",
     "output_type": "stream",
     "text": [
      "Highlight found:\n"
     ]
    },
    {
     "data": {
      "text/markdown": [
       "Siemens Says Cellphone Flaw May Hurt Users and Its Profit: Siemens <mark>, the world's fourth-largest maker of mobile phones, said Friday that a software flaw that can create a piercing ring in its newest phone models might hurt earnings in its handset division . </mark>"
      ],
      "text/plain": [
       "<IPython.core.display.Markdown object>"
      ]
     },
     "metadata": {},
     "output_type": "display_data"
    }
   ],
   "source": [
    "from IPython.display import display, Markdown\n",
    "\n",
    "if contrast_highlight is None:\n",
    "    print('No contrast highlight found. This means the model never predicts the foil for any highlight.')\n",
    "else:\n",
    "    print('Highlight found:')\n",
    "    marked_text = tokenized_text[:contrast_highlight[0]] + ['<mark>'] \\\n",
    "        + tokenized_text[contrast_highlight[0]:contrast_highlight[1]+1] + ['</mark>'] \\\n",
    "        + tokenized_text[contrast_highlight[1]+1:]\n",
    "    display(Markdown(tok.detokenize(marked_text)))"
   ]
  },
  {
   "cell_type": "code",
   "execution_count": 7,
   "metadata": {},
   "outputs": [],
   "source": [
    "# Now let's find the shortest highlight deltas that flip the prediction back to the model's normal prediction.\n",
    "\n",
    "def highlight_contains_span(highlight, span):\n",
    "    if span[0] >= highlight[0] and span[1] <= highlight[1]:\n",
    "        return True\n",
    "    return False\n",
    "\n",
    "contrast_text = [token if contrast_highlight[0] <= k <= contrast_highlight[1] else '<mask>' for k, token in enumerate(tokenized_text)]\n",
    "\n",
    "delta_spans = []\n",
    "\n",
    "for j in range(0, len(tokenized_text) - 1):\n",
    "    for i in range(len(tokenized_text)):\n",
    "        if contrast_highlight[0] <= i <= contrast_highlight[1] or contrast_highlight[0] <= i + j <= contrast_highlight[1]:\n",
    "            continue\n",
    "        if contrast_highlight[0] >= i and i + j >= contrast_highlight[1]:\n",
    "            continue    \n",
    "            \n",
    "        masked_text = [tokenized_text[k] if i <= k <= i + j else token for k, token in enumerate(contrast_text)]\n",
    "        masked_text = tok.detokenize(masked_text)\n",
    "        \n",
    "        out = predictor.predict(masked_text)\n",
    "        if out['label'] == prediction:\n",
    "            delta_spans.append([i, i + j])\n",
    "\n",
    "    if len(delta_spans) >= 1:\n",
    "        break\n"
   ]
  },
  {
   "cell_type": "code",
   "execution_count": 8,
   "metadata": {},
   "outputs": [
    {
     "name": "stdout",
     "output_type": "stream",
     "text": [
      "Contrast highlight:\n"
     ]
    },
    {
     "data": {
      "text/markdown": [
       "Siemens Says Cellphone Flaw May Hurt Users and Its Profit: Siemens <mark>, the world's fourth-largest maker of mobile phones, said Friday that a software flaw that can create a piercing ring in its newest phone models might hurt earnings in its handset division . </mark>"
      ],
      "text/plain": [
       "<IPython.core.display.Markdown object>"
      ]
     },
     "metadata": {},
     "output_type": "display_data"
    },
    {
     "name": "stdout",
     "output_type": "stream",
     "text": [
      "Delta highlights:\n"
     ]
    },
    {
     "data": {
      "text/markdown": [
       "<mark> Siemens </mark> Says Cellphone Flaw May Hurt Users and Its Profit: Siemens <mark>, the world's fourth-largest maker of mobile phones, said Friday that a software flaw that can create a piercing ring in its newest phone models might hurt earnings in its handset division . </mark>"
      ],
      "text/plain": [
       "<IPython.core.display.Markdown object>"
      ]
     },
     "metadata": {},
     "output_type": "display_data"
    },
    {
     "data": {
      "text/markdown": [
       "Siemens <mark> Says </mark> Cellphone Flaw May Hurt Users and Its Profit: Siemens <mark>, the world's fourth-largest maker of mobile phones, said Friday that a software flaw that can create a piercing ring in its newest phone models might hurt earnings in its handset division . </mark>"
      ],
      "text/plain": [
       "<IPython.core.display.Markdown object>"
      ]
     },
     "metadata": {},
     "output_type": "display_data"
    },
    {
     "data": {
      "text/markdown": [
       "Siemens Says Cellphone <mark> Flaw </mark> May Hurt Users and Its Profit: Siemens <mark>, the world's fourth-largest maker of mobile phones, said Friday that a software flaw that can create a piercing ring in its newest phone models might hurt earnings in its handset division . </mark>"
      ],
      "text/plain": [
       "<IPython.core.display.Markdown object>"
      ]
     },
     "metadata": {},
     "output_type": "display_data"
    },
    {
     "data": {
      "text/markdown": [
       "Siemens Says Cellphone Flaw May <mark> Hurt </mark> Users and Its Profit: Siemens <mark>, the world's fourth-largest maker of mobile phones, said Friday that a software flaw that can create a piercing ring in its newest phone models might hurt earnings in its handset division . </mark>"
      ],
      "text/plain": [
       "<IPython.core.display.Markdown object>"
      ]
     },
     "metadata": {},
     "output_type": "display_data"
    },
    {
     "data": {
      "text/markdown": [
       "Siemens Says Cellphone Flaw May Hurt <mark> Users </mark> and Its Profit: Siemens <mark>, the world's fourth-largest maker of mobile phones, said Friday that a software flaw that can create a piercing ring in its newest phone models might hurt earnings in its handset division . </mark>"
      ],
      "text/plain": [
       "<IPython.core.display.Markdown object>"
      ]
     },
     "metadata": {},
     "output_type": "display_data"
    },
    {
     "data": {
      "text/markdown": [
       "Siemens Says Cellphone Flaw May Hurt Users <mark> and </mark> Its Profit: Siemens <mark>, the world's fourth-largest maker of mobile phones, said Friday that a software flaw that can create a piercing ring in its newest phone models might hurt earnings in its handset division . </mark>"
      ],
      "text/plain": [
       "<IPython.core.display.Markdown object>"
      ]
     },
     "metadata": {},
     "output_type": "display_data"
    },
    {
     "data": {
      "text/markdown": [
       "Siemens Says Cellphone Flaw May Hurt Users and Its Profit: <mark> Siemens </mark> <mark>, the world's fourth-largest maker of mobile phones, said Friday that a software flaw that can create a piercing ring in its newest phone models might hurt earnings in its handset division . </mark>"
      ],
      "text/plain": [
       "<IPython.core.display.Markdown object>"
      ]
     },
     "metadata": {},
     "output_type": "display_data"
    }
   ],
   "source": [
    "assert len(delta_spans) > 0, \"We should be guaranteed to find a delta highlight (in the worst case, the entire text)\"\n",
    "\n",
    "print('Contrast highlight:')\n",
    "marked_text = tokenized_text[:contrast_highlight[0]] + ['<mark>'] \\\n",
    "    + tokenized_text[contrast_highlight[0]:contrast_highlight[1]+1] + ['</mark>'] \\\n",
    "    + tokenized_text[contrast_highlight[1]+1:]\n",
    "display(Markdown(tok.detokenize(marked_text)))\n",
    "\n",
    "print('Delta highlights:')\n",
    "for span in delta_spans:\n",
    "    if span[0] < contrast_highlight[0]:\n",
    "        marked_text_2 = tokenized_text[:span[0]] + ['<mark>'] \\\n",
    "            + tokenized_text[span[0]:span[1]+1] + ['</mark>'] \\\n",
    "            + marked_text[span[1]+1:]\n",
    "    else:\n",
    "        marked_text_2 = marked_text[:span[0]+2] + ['<mark>'] \\\n",
    "            + marked_text[span[0]+2:span[1]+3] + ['</mark>'] \\\n",
    "            + tokenized_text[span[1]+1:]\n",
    "    display(Markdown(tok.detokenize(marked_text_2)))"
   ]
  },
  {
   "cell_type": "code",
   "execution_count": null,
   "metadata": {},
   "outputs": [],
   "source": []
  }
 ],
 "metadata": {
  "kernelspec": {
   "display_name": "Python 3",
   "language": "python",
   "name": "python3"
  },
  "language_info": {
   "codemirror_mode": {
    "name": "ipython",
    "version": 3
   },
   "file_extension": ".py",
   "mimetype": "text/x-python",
   "name": "python",
   "nbconvert_exporter": "python",
   "pygments_lexer": "ipython3",
   "version": "3.8.5"
  }
 },
 "nbformat": 4,
 "nbformat_minor": 4
}
